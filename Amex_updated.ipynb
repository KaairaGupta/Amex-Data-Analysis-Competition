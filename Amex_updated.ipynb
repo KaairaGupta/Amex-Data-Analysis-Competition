{
 "cells": [
  {
   "cell_type": "code",
   "execution_count": 4,
   "metadata": {},
   "outputs": [],
   "source": [
    "import numpy as np\n",
    "import matplotlib.pyplot as plt\n",
    "import pandas as pd\n",
    "from sklearn import svm"
   ]
  },
  {
   "cell_type": "code",
   "execution_count": 5,
   "metadata": {},
   "outputs": [],
   "source": [
    "train_dataset=pd.read_csv('development_dataset.csv')\n",
    "test_dataset=pd.read_csv('leaderboard_dataset.csv')"
   ]
  },
  {
   "cell_type": "code",
   "execution_count": 6,
   "metadata": {},
   "outputs": [
    {
     "name": "stdout",
     "output_type": "stream",
     "text": [
      "(34000, 21)\n",
      "(10000, 20)\n"
     ]
    }
   ],
   "source": [
    "print(train_dataset.shape)\n",
    "print(test_dataset.shape)"
   ]
  },
  {
   "cell_type": "code",
   "execution_count": 7,
   "metadata": {},
   "outputs": [
    {
     "data": {
      "text/html": [
       "<div>\n",
       "<style scoped>\n",
       "    .dataframe tbody tr th:only-of-type {\n",
       "        vertical-align: middle;\n",
       "    }\n",
       "\n",
       "    .dataframe tbody tr th {\n",
       "        vertical-align: top;\n",
       "    }\n",
       "\n",
       "    .dataframe thead th {\n",
       "        text-align: right;\n",
       "    }\n",
       "</style>\n",
       "<table border=\"1\" class=\"dataframe\">\n",
       "  <thead>\n",
       "    <tr style=\"text-align: right;\">\n",
       "      <th></th>\n",
       "      <th>VAR1</th>\n",
       "      <th>VAR2</th>\n",
       "      <th>VAR3</th>\n",
       "      <th>VAR4</th>\n",
       "      <th>VAR5</th>\n",
       "      <th>VAR6</th>\n",
       "      <th>VAR7</th>\n",
       "      <th>VAR8</th>\n",
       "      <th>VAR9</th>\n",
       "      <th>VAR10</th>\n",
       "      <th>...</th>\n",
       "      <th>VAR12</th>\n",
       "      <th>VAR13</th>\n",
       "      <th>VAR14</th>\n",
       "      <th>VAR15</th>\n",
       "      <th>VAR16</th>\n",
       "      <th>VAR17</th>\n",
       "      <th>VAR18</th>\n",
       "      <th>VAR19</th>\n",
       "      <th>VAR20</th>\n",
       "      <th>VAR21</th>\n",
       "    </tr>\n",
       "  </thead>\n",
       "  <tbody>\n",
       "    <tr>\n",
       "      <th>0</th>\n",
       "      <td>1</td>\n",
       "      <td>828.235294</td>\n",
       "      <td>0.138889</td>\n",
       "      <td>321.428571</td>\n",
       "      <td>625.911006</td>\n",
       "      <td>1.818182</td>\n",
       "      <td>1.081550</td>\n",
       "      <td>198.113469</td>\n",
       "      <td>NaN</td>\n",
       "      <td>58.632548</td>\n",
       "      <td>...</td>\n",
       "      <td>100.083403</td>\n",
       "      <td>1.0</td>\n",
       "      <td>1</td>\n",
       "      <td>1.0</td>\n",
       "      <td>1.540594</td>\n",
       "      <td>NaN</td>\n",
       "      <td>1</td>\n",
       "      <td>0</td>\n",
       "      <td>100.104991</td>\n",
       "      <td>Low</td>\n",
       "    </tr>\n",
       "    <tr>\n",
       "      <th>1</th>\n",
       "      <td>2</td>\n",
       "      <td>911.764706</td>\n",
       "      <td>0.027778</td>\n",
       "      <td>NaN</td>\n",
       "      <td>611.574748</td>\n",
       "      <td>8.181818</td>\n",
       "      <td>1.344479</td>\n",
       "      <td>198.600020</td>\n",
       "      <td>22.086661</td>\n",
       "      <td>NaN</td>\n",
       "      <td>...</td>\n",
       "      <td>15.012510</td>\n",
       "      <td>NaN</td>\n",
       "      <td>1</td>\n",
       "      <td>NaN</td>\n",
       "      <td>1.614613</td>\n",
       "      <td>NaN</td>\n",
       "      <td>0</td>\n",
       "      <td>1</td>\n",
       "      <td>146.654045</td>\n",
       "      <td>High</td>\n",
       "    </tr>\n",
       "    <tr>\n",
       "      <th>2</th>\n",
       "      <td>3</td>\n",
       "      <td>962.352941</td>\n",
       "      <td>0.833333</td>\n",
       "      <td>35.714286</td>\n",
       "      <td>615.825381</td>\n",
       "      <td>8.181818</td>\n",
       "      <td>0.720796</td>\n",
       "      <td>197.267767</td>\n",
       "      <td>NaN</td>\n",
       "      <td>58.632548</td>\n",
       "      <td>...</td>\n",
       "      <td>210.175146</td>\n",
       "      <td>10.0</td>\n",
       "      <td>1</td>\n",
       "      <td>10.0</td>\n",
       "      <td>1.044599</td>\n",
       "      <td>NaN</td>\n",
       "      <td>0</td>\n",
       "      <td>0</td>\n",
       "      <td>98.249570</td>\n",
       "      <td>Medium</td>\n",
       "    </tr>\n",
       "    <tr>\n",
       "      <th>3</th>\n",
       "      <td>4</td>\n",
       "      <td>892.941177</td>\n",
       "      <td>NaN</td>\n",
       "      <td>NaN</td>\n",
       "      <td>638.076431</td>\n",
       "      <td>9.090909</td>\n",
       "      <td>0.820218</td>\n",
       "      <td>197.355744</td>\n",
       "      <td>4.363431</td>\n",
       "      <td>58.632548</td>\n",
       "      <td>...</td>\n",
       "      <td>NaN</td>\n",
       "      <td>NaN</td>\n",
       "      <td>1</td>\n",
       "      <td>NaN</td>\n",
       "      <td>1.145729</td>\n",
       "      <td>NaN</td>\n",
       "      <td>1</td>\n",
       "      <td>0</td>\n",
       "      <td>140.862306</td>\n",
       "      <td>Low</td>\n",
       "    </tr>\n",
       "    <tr>\n",
       "      <th>4</th>\n",
       "      <td>5</td>\n",
       "      <td>914.117647</td>\n",
       "      <td>0.083333</td>\n",
       "      <td>NaN</td>\n",
       "      <td>626.514988</td>\n",
       "      <td>5.181818</td>\n",
       "      <td>1.372928</td>\n",
       "      <td>198.790477</td>\n",
       "      <td>85.938202</td>\n",
       "      <td>58.632548</td>\n",
       "      <td>...</td>\n",
       "      <td>210.175146</td>\n",
       "      <td>NaN</td>\n",
       "      <td>.</td>\n",
       "      <td>NaN</td>\n",
       "      <td>1.558341</td>\n",
       "      <td>NaN</td>\n",
       "      <td>1</td>\n",
       "      <td>0</td>\n",
       "      <td>101.268503</td>\n",
       "      <td>High</td>\n",
       "    </tr>\n",
       "  </tbody>\n",
       "</table>\n",
       "<p>5 rows × 21 columns</p>\n",
       "</div>"
      ],
      "text/plain": [
       "   VAR1        VAR2      VAR3        VAR4        VAR5      VAR6      VAR7  \\\n",
       "0     1  828.235294  0.138889  321.428571  625.911006  1.818182  1.081550   \n",
       "1     2  911.764706  0.027778         NaN  611.574748  8.181818  1.344479   \n",
       "2     3  962.352941  0.833333   35.714286  615.825381  8.181818  0.720796   \n",
       "3     4  892.941177       NaN         NaN  638.076431  9.090909  0.820218   \n",
       "4     5  914.117647  0.083333         NaN  626.514988  5.181818  1.372928   \n",
       "\n",
       "         VAR8       VAR9      VAR10  ...       VAR12  VAR13  VAR14 VAR15  \\\n",
       "0  198.113469        NaN  58.632548  ...  100.083403    1.0      1   1.0   \n",
       "1  198.600020  22.086661        NaN  ...   15.012510    NaN      1   NaN   \n",
       "2  197.267767        NaN  58.632548  ...  210.175146   10.0      1  10.0   \n",
       "3  197.355744   4.363431  58.632548  ...         NaN    NaN      1   NaN   \n",
       "4  198.790477  85.938202  58.632548  ...  210.175146    NaN      .   NaN   \n",
       "\n",
       "      VAR16  VAR17  VAR18  VAR19       VAR20   VAR21  \n",
       "0  1.540594    NaN      1      0  100.104991     Low  \n",
       "1  1.614613    NaN      0      1  146.654045    High  \n",
       "2  1.044599    NaN      0      0   98.249570  Medium  \n",
       "3  1.145729    NaN      1      0  140.862306     Low  \n",
       "4  1.558341    NaN      1      0  101.268503    High  \n",
       "\n",
       "[5 rows x 21 columns]"
      ]
     },
     "execution_count": 7,
     "metadata": {},
     "output_type": "execute_result"
    }
   ],
   "source": [
    "train_dataset.head()"
   ]
  },
  {
   "cell_type": "code",
   "execution_count": 8,
   "metadata": {},
   "outputs": [
    {
     "name": "stderr",
     "output_type": "stream",
     "text": [
      "/home/kaaira/anaconda3/lib/python3.7/site-packages/ipykernel_launcher.py:1: FutureWarning: Sorting because non-concatenation axis is not aligned. A future version\n",
      "of pandas will change to not sort by default.\n",
      "\n",
      "To accept the future behavior, pass 'sort=False'.\n",
      "\n",
      "To retain the current behavior and silence the warning, pass 'sort=True'.\n",
      "\n",
      "  \"\"\"Entry point for launching an IPython kernel.\n"
     ]
    }
   ],
   "source": [
    "data=pd.concat([train_dataset,test_dataset])"
   ]
  },
  {
   "cell_type": "code",
   "execution_count": 31,
   "metadata": {},
   "outputs": [
    {
     "name": "stderr",
     "output_type": "stream",
     "text": [
      "/home/kaaira/anaconda3/lib/python3.7/site-packages/ipykernel_launcher.py:1: SettingWithCopyWarning: \n",
      "A value is trying to be set on a copy of a slice from a DataFrame\n",
      "\n",
      "See the caveats in the documentation: http://pandas.pydata.org/pandas-docs/stable/indexing.html#indexing-view-versus-copy\n",
      "  \"\"\"Entry point for launching an IPython kernel.\n"
     ]
    }
   ],
   "source": [
    "train_dataset.loc[:,'VAR14'][train_dataset.loc[:,'VAR14'].isin(['.'])]=np.NaN\n",
    "train_dataset['VAR14']=train_dataset['VAR14'].apply(pd.to_numeric)"
   ]
  },
  {
   "cell_type": "code",
   "execution_count": 32,
   "metadata": {},
   "outputs": [
    {
     "name": "stderr",
     "output_type": "stream",
     "text": [
      "/home/kaaira/anaconda3/lib/python3.7/site-packages/ipykernel_launcher.py:1: SettingWithCopyWarning: \n",
      "A value is trying to be set on a copy of a slice from a DataFrame\n",
      "\n",
      "See the caveats in the documentation: http://pandas.pydata.org/pandas-docs/stable/indexing.html#indexing-view-versus-copy\n",
      "  \"\"\"Entry point for launching an IPython kernel.\n"
     ]
    }
   ],
   "source": [
    "test_dataset.loc[:,'VAR14'][test_dataset.loc[:,'VAR14'].isin(['.'])]=np.NaN\n",
    "test_dataset['VAR14']=test_dataset['VAR14'].apply(pd.to_numeric)"
   ]
  },
  {
   "cell_type": "code",
   "execution_count": 33,
   "metadata": {},
   "outputs": [],
   "source": [
    "mean_data = {\n",
    "    'VAR10': 56.497319916561565,\n",
    "    'VAR11': 5.4290617632523634,\n",
    "    'VAR12': 117.28366711019322,\n",
    "    'VAR13': 11.67958939730443,\n",
    "    'VAR15': 12.453257109061381,\n",
    "    'VAR16': 2.092006359280712,\n",
    "    'VAR17': 821.281091817721,\n",
    "    'VAR18': 0.40002941176470586,\n",
    "    'VAR19': 0.29805882352941176,\n",
    "    'VAR2': 917.3916031483315,\n",
    "    'VAR20': 161.35594998478794,\n",
    "    'VAR3': 1.1195956999950352,\n",
    "    'VAR4': 248.07620132529897,\n",
    "    'VAR5': 631.5713914682914,\n",
    "    'VAR6': 15.290028445341045,\n",
    "    'VAR7': 2.0552948772701423,\n",
    "    'VAR8': 200.00716889702667,\n",
    "    'VAR9': 53.988554410139486,\n",
    "}"
   ]
  },
  {
   "cell_type": "code",
   "execution_count": 34,
   "metadata": {
    "scrolled": true
   },
   "outputs": [
    {
     "name": "stdout",
     "output_type": "stream",
     "text": [
      "<class 'pandas.core.frame.DataFrame'>\n",
      "RangeIndex: 34000 entries, 0 to 33999\n",
      "Data columns (total 21 columns):\n",
      "VAR1     34000 non-null int64\n",
      "VAR2     33039 non-null float64\n",
      "VAR3     30615 non-null float64\n",
      "VAR4     21506 non-null float64\n",
      "VAR5     33999 non-null float64\n",
      "VAR6     30505 non-null float64\n",
      "VAR7     33165 non-null float64\n",
      "VAR8     33165 non-null float64\n",
      "VAR9     18183 non-null float64\n",
      "VAR10    29450 non-null float64\n",
      "VAR11    26435 non-null float64\n",
      "VAR12    23498 non-null float64\n",
      "VAR13    25478 non-null float64\n",
      "VAR14    34000 non-null int64\n",
      "VAR15    25976 non-null float64\n",
      "VAR16    33134 non-null float64\n",
      "VAR17    11806 non-null float64\n",
      "VAR18    34000 non-null int64\n",
      "VAR19    34000 non-null int64\n",
      "VAR20    34000 non-null float64\n",
      "VAR21    34000 non-null object\n",
      "dtypes: float64(16), int64(4), object(1)\n",
      "memory usage: 5.4+ MB\n",
      "<class 'pandas.core.frame.DataFrame'>\n",
      "RangeIndex: 10000 entries, 0 to 9999\n",
      "Data columns (total 20 columns):\n",
      "VAR1     10000 non-null int64\n",
      "VAR2     9733 non-null float64\n",
      "VAR3     9063 non-null float64\n",
      "VAR4     6314 non-null float64\n",
      "VAR5     10000 non-null float64\n",
      "VAR6     8942 non-null float64\n",
      "VAR7     9785 non-null float64\n",
      "VAR8     9785 non-null float64\n",
      "VAR9     5299 non-null float64\n",
      "VAR10    8652 non-null float64\n",
      "VAR11    7769 non-null float64\n",
      "VAR12    6799 non-null float64\n",
      "VAR13    7507 non-null float64\n",
      "VAR14    10000 non-null int64\n",
      "VAR15    7641 non-null float64\n",
      "VAR16    9771 non-null float64\n",
      "VAR17    3457 non-null float64\n",
      "VAR18    10000 non-null int64\n",
      "VAR19    10000 non-null int64\n",
      "VAR20    10000 non-null float64\n",
      "dtypes: float64(16), int64(4)\n",
      "memory usage: 1.5 MB\n"
     ]
    },
    {
     "data": {
      "text/plain": [
       "VAR1     34000\n",
       "VAR2     34000\n",
       "VAR3     34000\n",
       "VAR4     34000\n",
       "VAR5     34000\n",
       "VAR6     34000\n",
       "VAR7     34000\n",
       "VAR8     34000\n",
       "VAR9     34000\n",
       "VAR10    34000\n",
       "VAR11    34000\n",
       "VAR12    34000\n",
       "VAR13    34000\n",
       "VAR14    34000\n",
       "VAR15    34000\n",
       "VAR16    34000\n",
       "VAR17    34000\n",
       "VAR18    34000\n",
       "VAR19    34000\n",
       "VAR20    34000\n",
       "VAR21    34000\n",
       "dtype: int64"
      ]
     },
     "execution_count": 34,
     "metadata": {},
     "output_type": "execute_result"
    }
   ],
   "source": [
    "train_dataset.info()\n",
    "test_dataset.info()\n",
    "train_dataset.isnull().count()"
   ]
  },
  {
   "cell_type": "code",
   "execution_count": 35,
   "metadata": {},
   "outputs": [
    {
     "name": "stdout",
     "output_type": "stream",
     "text": [
      "0           Low\n",
      "1          High\n",
      "2        Medium\n",
      "3           Low\n",
      "4          High\n",
      "5           Low\n",
      "6           Low\n",
      "7        Medium\n",
      "8           Low\n",
      "9        Medium\n",
      "10          Low\n",
      "11          Low\n",
      "12          Low\n",
      "13         High\n",
      "14       Medium\n",
      "15         High\n",
      "16          Low\n",
      "17          Low\n",
      "18          Low\n",
      "19          Low\n",
      "20       Medium\n",
      "21          Low\n",
      "22       Medium\n",
      "23       Medium\n",
      "24       Medium\n",
      "25       Medium\n",
      "26          Low\n",
      "27          Low\n",
      "28          Low\n",
      "29          Low\n",
      "          ...  \n",
      "33970       Low\n",
      "33971    Medium\n",
      "33972    Medium\n",
      "33973    Medium\n",
      "33974       Low\n",
      "33975    Medium\n",
      "33976       Low\n",
      "33977       Low\n",
      "33978    Medium\n",
      "33979    Medium\n",
      "33980    Medium\n",
      "33981       Low\n",
      "33982    Medium\n",
      "33983       Low\n",
      "33984      High\n",
      "33985    Medium\n",
      "33986      High\n",
      "33987    Medium\n",
      "33988    Medium\n",
      "33989       Low\n",
      "33990    Medium\n",
      "33991    Medium\n",
      "33992    Medium\n",
      "33993       Low\n",
      "33994    Medium\n",
      "33995       Low\n",
      "33996    Medium\n",
      "33997       Low\n",
      "33998       Low\n",
      "33999      High\n",
      "Name: VAR21, Length: 34000, dtype: object\n"
     ]
    }
   ],
   "source": [
    "y=train_dataset.iloc[:,20]\n",
    "print(y)"
   ]
  },
  {
   "cell_type": "code",
   "execution_count": 36,
   "metadata": {},
   "outputs": [],
   "source": [
    "X=train_dataset.drop(data.columns[0],axis=1)\n",
    "X=train_dataset.drop(['VAR21'],axis=1)\n",
    "y=train_dataset['VAR21']\n",
    "\n",
    "X_leaderboard=test_dataset"
   ]
  },
  {
   "cell_type": "code",
   "execution_count": 37,
   "metadata": {},
   "outputs": [],
   "source": [
    "from sklearn.model_selection import train_test_split\n",
    "X_train,X_test,y_train,y_test=train_test_split(X,y,test_size=0.3,random_state=42)"
   ]
  },
  {
   "cell_type": "code",
   "execution_count": 38,
   "metadata": {
    "scrolled": true
   },
   "outputs": [
    {
     "name": "stdout",
     "output_type": "stream",
     "text": [
      "(23800, 20)\n",
      "(10200, 20)\n",
      "       VAR1   VAR2   VAR3   VAR4   VAR5   VAR6   VAR7   VAR8   VAR9  VAR10  \\\n",
      "0     False  False  False  False  False  False  False  False   True  False   \n",
      "1     False  False  False  False  False  False  False  False  False  False   \n",
      "2     False  False  False   True  False  False  False  False  False   True   \n",
      "3     False  False  False  False  False  False  False  False   True  False   \n",
      "4     False  False  False   True  False   True  False  False  False  False   \n",
      "5     False  False  False  False  False  False  False  False  False   True   \n",
      "6     False  False  False  False  False  False  False  False  False  False   \n",
      "7     False  False  False  False  False  False  False  False  False  False   \n",
      "8     False  False  False   True  False  False  False  False  False  False   \n",
      "9     False  False   True   True  False  False  False  False  False  False   \n",
      "10    False  False  False  False  False  False  False  False  False  False   \n",
      "11    False  False  False  False  False  False  False  False   True  False   \n",
      "12    False  False  False  False  False  False  False  False  False   True   \n",
      "13    False  False  False   True  False  False  False  False  False  False   \n",
      "14    False  False  False  False  False  False  False  False   True  False   \n",
      "15    False  False  False  False  False  False  False  False   True  False   \n",
      "16    False  False   True   True  False   True  False  False  False   True   \n",
      "17    False  False  False  False  False  False  False  False   True  False   \n",
      "18    False  False  False  False  False  False  False  False   True  False   \n",
      "19    False  False  False  False  False  False  False  False  False  False   \n",
      "20    False  False  False   True  False   True  False  False   True  False   \n",
      "21    False  False   True   True  False  False  False  False  False  False   \n",
      "22    False  False  False  False  False  False  False  False  False   True   \n",
      "23    False  False  False  False  False  False  False  False  False  False   \n",
      "24    False  False  False   True  False  False  False  False   True  False   \n",
      "25    False  False  False   True  False  False  False  False  False   True   \n",
      "26    False  False  False   True  False   True  False  False  False   True   \n",
      "27    False  False  False   True  False  False  False  False  False   True   \n",
      "28    False  False  False  False  False  False  False  False   True  False   \n",
      "29    False  False  False  False  False  False  False  False   True  False   \n",
      "...     ...    ...    ...    ...    ...    ...    ...    ...    ...    ...   \n",
      "9970  False  False  False  False  False  False  False  False   True  False   \n",
      "9971  False  False  False  False  False  False  False  False  False  False   \n",
      "9972  False  False  False   True  False  False  False  False   True  False   \n",
      "9973  False  False  False  False  False  False  False  False   True  False   \n",
      "9974  False  False  False  False  False  False  False  False  False  False   \n",
      "9975  False  False  False  False  False  False  False  False  False   True   \n",
      "9976  False  False  False  False  False   True  False  False   True  False   \n",
      "9977  False  False  False  False  False  False  False  False   True  False   \n",
      "9978  False  False  False   True  False  False  False  False  False  False   \n",
      "9979  False  False   True   True  False   True  False  False   True  False   \n",
      "9980  False  False  False  False  False  False  False  False  False  False   \n",
      "9981  False  False  False  False  False  False  False  False  False   True   \n",
      "9982  False  False  False  False  False  False  False  False  False   True   \n",
      "9983  False  False  False  False  False  False  False  False   True  False   \n",
      "9984  False  False  False   True  False  False  False  False   True  False   \n",
      "9985  False  False  False  False  False  False  False  False  False  False   \n",
      "9986  False  False  False  False  False  False  False  False  False  False   \n",
      "9987  False  False  False  False  False  False  False  False   True  False   \n",
      "9988  False  False  False  False  False  False  False  False  False  False   \n",
      "9989  False  False  False  False  False   True  False  False  False  False   \n",
      "9990  False  False  False  False  False  False  False  False  False   True   \n",
      "9991  False  False  False  False  False   True  False  False   True   True   \n",
      "9992  False  False  False   True  False  False  False  False   True  False   \n",
      "9993  False  False  False  False  False  False  False  False  False  False   \n",
      "9994  False  False  False   True  False   True  False  False   True  False   \n",
      "9995  False  False  False   True  False  False  False  False  False  False   \n",
      "9996  False  False  False  False  False  False  False  False  False  False   \n",
      "9997  False  False   True   True  False  False  False  False   True  False   \n",
      "9998  False  False  False   True  False  False  False  False  False  False   \n",
      "9999  False  False   True   True  False  False  False  False   True  False   \n",
      "\n",
      "      VAR11  VAR12  VAR13  VAR14  VAR15  VAR16  VAR17  VAR18  VAR19  VAR20  \n",
      "0     False  False  False  False  False  False  False  False  False  False  \n",
      "1     False   True  False  False  False  False  False  False  False  False  \n",
      "2     False   True  False  False  False  False   True  False  False  False  \n",
      "3      True   True   True  False   True  False   True  False  False  False  \n",
      "4     False   True  False  False  False  False   True  False  False  False  \n",
      "5     False  False  False  False  False  False  False  False  False  False  \n",
      "6     False  False  False  False  False  False   True  False  False  False  \n",
      "7     False  False  False  False  False  False  False  False  False  False  \n",
      "8     False   True  False  False  False  False   True  False  False  False  \n",
      "9      True  False   True  False   True  False   True  False  False  False  \n",
      "10    False  False  False  False  False  False  False  False  False  False  \n",
      "11    False  False  False  False  False  False  False  False  False  False  \n",
      "12    False   True  False  False  False  False   True  False  False  False  \n",
      "13    False   True  False  False  False  False   True  False  False  False  \n",
      "14    False   True  False  False  False  False  False  False  False  False  \n",
      "15    False  False  False  False  False  False  False  False  False  False  \n",
      "16     True   True   True  False   True  False   True  False  False  False  \n",
      "17    False   True  False  False  False  False   True  False  False  False  \n",
      "18    False  False  False  False  False  False   True  False  False  False  \n",
      "19    False   True  False  False  False  False  False  False  False  False  \n",
      "20    False   True  False  False  False  False   True  False  False  False  \n",
      "21     True   True   True  False   True  False   True  False  False  False  \n",
      "22    False  False  False  False  False  False  False  False  False  False  \n",
      "23    False  False  False  False  False  False  False  False  False  False  \n",
      "24    False   True  False  False  False  False  False  False  False  False  \n",
      "25     True   True   True  False   True  False   True  False  False  False  \n",
      "26     True   True   True  False   True  False   True  False  False  False  \n",
      "27    False  False  False  False  False  False   True  False  False  False  \n",
      "28    False  False  False  False  False  False   True  False  False  False  \n",
      "29    False   True  False  False  False  False  False  False  False  False  \n",
      "...     ...    ...    ...    ...    ...    ...    ...    ...    ...    ...  \n",
      "9970  False  False  False  False  False  False  False  False  False  False  \n",
      "9971   True  False   True  False   True  False   True  False  False  False  \n",
      "9972  False  False  False  False  False  False   True  False  False  False  \n",
      "9973  False   True  False  False  False  False   True  False  False  False  \n",
      "9974  False  False  False  False  False  False  False  False  False  False  \n",
      "9975  False  False  False  False  False  False  False  False  False  False  \n",
      "9976  False   True  False  False  False  False  False  False  False  False  \n",
      "9977  False   True  False  False  False  False  False  False  False  False  \n",
      "9978  False   True  False  False  False  False   True  False  False  False  \n",
      "9979   True   True   True  False   True  False   True  False  False  False  \n",
      "9980  False  False  False  False  False  False   True  False  False  False  \n",
      "9981  False  False  False  False  False  False  False  False  False  False  \n",
      "9982   True  False   True  False   True  False   True  False  False  False  \n",
      "9983   True  False   True  False   True  False   True  False  False  False  \n",
      "9984  False  False  False  False  False  False   True  False  False  False  \n",
      "9985  False   True  False  False  False  False  False  False  False  False  \n",
      "9986  False   True  False  False  False  False   True  False  False  False  \n",
      "9987  False   True  False  False  False  False  False  False  False  False  \n",
      "9988  False  False  False  False  False  False  False  False  False  False  \n",
      "9989   True  False   True  False   True  False   True  False  False  False  \n",
      "9990   True  False   True  False   True  False   True  False  False  False  \n",
      "9991  False  False  False  False  False  False   True  False  False  False  \n",
      "9992  False  False  False  False  False  False   True  False  False  False  \n",
      "9993  False  False  False  False  False  False   True  False  False  False  \n",
      "9994  False  False  False  False  False  False  False  False  False  False  \n",
      "9995  False  False  False  False  False  False   True  False  False  False  \n",
      "9996  False  False  False  False  False  False  False  False  False  False  \n",
      "9997   True  False   True  False   True  False   True  False  False  False  \n",
      "9998  False  False  False  False  False  False   True  False  False  False  \n",
      "9999  False  False  False  False  False  False  False  False  False  False  \n",
      "\n",
      "[10000 rows x 20 columns]\n"
     ]
    }
   ],
   "source": [
    "print(X_train.shape)\n",
    "print(X_test.shape)\n",
    "print(X_leaderboard.isnull())"
   ]
  },
  {
   "cell_type": "code",
   "execution_count": 39,
   "metadata": {},
   "outputs": [
    {
     "data": {
      "text/plain": [
       "array([0, 1, 0], dtype=uint8)"
      ]
     },
     "execution_count": 39,
     "metadata": {},
     "output_type": "execute_result"
    }
   ],
   "source": [
    "y_hot=pd.get_dummies(y)\n",
    "y_hot\n",
    "y_train_hot=np.asarray(pd.get_dummies(y_train))\n",
    "y_test_hot=np.asarray(pd.get_dummies(y_test))\n",
    "y_train_hot[0]"
   ]
  },
  {
   "cell_type": "code",
   "execution_count": 24,
   "metadata": {},
   "outputs": [
    {
     "name": "stdout",
     "output_type": "stream",
     "text": [
      "Collecting xgboost\n",
      "\u001b[?25l  Downloading https://files.pythonhosted.org/packages/c1/24/5fe7237b2eca13ee0cfb100bec8c23f4e69ce9df852a64b0493d49dae4e0/xgboost-0.90-py2.py3-none-manylinux1_x86_64.whl (142.8MB)\n",
      "\u001b[K     |████████████████████████████████| 142.8MB 455kB/s eta 0:00:01    |███████▋                        | 34.2MB 460kB/s eta 0:03:56     |████████▍                       | 37.2MB 470kB/s eta 0:03:45     |████████████▉                   | 57.2MB 452kB/s eta 0:03:10     |██████████████████▉             | 84.2MB 455kB/s eta 0:02:09     |████████████████████▌           | 91.5MB 443kB/s eta 0:01:56     |█████████████████████████▏      | 112.1MB 469kB/s eta 0:01:06     |███████████████████████████     | 120.0MB 477kB/s eta 0:00:48\n",
      "\u001b[?25hRequirement already satisfied: scipy in /home/kaaira/anaconda3/lib/python3.7/site-packages (from xgboost) (1.3.0)\n",
      "Requirement already satisfied: numpy in /home/kaaira/anaconda3/lib/python3.7/site-packages (from xgboost) (1.16.4)\n",
      "Installing collected packages: xgboost\n",
      "Successfully installed xgboost-0.90\n"
     ]
    }
   ],
   "source": [
    "!pip install xgboost\n",
    "\n"
   ]
  },
  {
   "cell_type": "code",
   "execution_count": 25,
   "metadata": {},
   "outputs": [
    {
     "name": "stdout",
     "output_type": "stream",
     "text": [
      "(34000, 20)\n",
      "(10000, 20)\n"
     ]
    }
   ],
   "source": [
    "import xgboost\n",
    "from xgboost import XGBClassifier\n",
    "print(X.shape)\n",
    "print(X_leaderboard.shape)"
   ]
  },
  {
   "cell_type": "code",
   "execution_count": 40,
   "metadata": {},
   "outputs": [],
   "source": [
    "xgb=XGBClassifier(n_estimators=1000,seed=100)\n",
    "xgb.fit(X,y)\n",
    "y_xgb=xgb.predict(X_leaderboard)"
   ]
  },
  {
   "cell_type": "code",
   "execution_count": 41,
   "metadata": {},
   "outputs": [],
   "source": [
    "pd.DataFrame(y_xgb).to_csv(\"Submission_XGB2.csv\")"
   ]
  },
  {
   "cell_type": "code",
   "execution_count": null,
   "metadata": {
    "scrolled": false
   },
   "outputs": [],
   "source": [
    "ax=xgboost.plot_importance(xgb)\n",
    "fig=ax.figure\n",
    "fig.set_size_inches(15,15)"
   ]
  },
  {
   "cell_type": "code",
   "execution_count": 102,
   "metadata": {},
   "outputs": [
    {
     "name": "stdout",
     "output_type": "stream",
     "text": [
      "   VAR1        VAR2      VAR3        VAR4        VAR5      VAR6      VAR7  \\\n",
      "0     1  828.235294  0.138889  321.428571  625.911006  1.818182  1.081550   \n",
      "1     2  911.764706  0.027778  248.076201  611.574748  8.181818  1.344479   \n",
      "2     3  962.352941  0.833333   35.714286  615.825381  8.181818  0.720796   \n",
      "3     4  892.941177  1.119596  248.076201  638.076431  9.090909  0.820218   \n",
      "4     5  914.117647  0.083333  248.076201  626.514988  5.181818  1.372928   \n",
      "\n",
      "         VAR8       VAR9      VAR10     VAR11       VAR12      VAR13  VAR14  \\\n",
      "0  198.113469  53.988554  58.632548  0.279273  100.083403   1.000000      1   \n",
      "1  198.600020  22.086661  56.497320  5.429062   15.012510  11.679589      1   \n",
      "2  197.267767  53.988554  58.632548  0.453212  210.175146  10.000000      1   \n",
      "3  197.355744   4.363431  58.632548  5.429062  117.283667  11.679589      1   \n",
      "4  198.790477  85.938202  58.632548  5.429062  210.175146  11.679589      0   \n",
      "\n",
      "       VAR15     VAR16       VAR17  VAR18  VAR19       VAR20  \n",
      "0   1.000000  1.540594  821.281092      1      0  100.104991  \n",
      "1  12.453257  1.614613  821.281092      0      1  146.654045  \n",
      "2  10.000000  1.044599  821.281092      0      0   98.249570  \n",
      "3  12.453257  1.145729  821.281092      1      0  140.862306  \n",
      "4  12.453257  1.558341  821.281092      1      0  101.268503  \n"
     ]
    }
   ],
   "source": [
    "print(X.head())"
   ]
  }
 ],
 "metadata": {
  "kernelspec": {
   "display_name": "Python 3",
   "language": "python",
   "name": "python3"
  },
  "language_info": {
   "codemirror_mode": {
    "name": "ipython",
    "version": 3
   },
   "file_extension": ".py",
   "mimetype": "text/x-python",
   "name": "python",
   "nbconvert_exporter": "python",
   "pygments_lexer": "ipython3",
   "version": "3.7.3"
  }
 },
 "nbformat": 4,
 "nbformat_minor": 2
}
