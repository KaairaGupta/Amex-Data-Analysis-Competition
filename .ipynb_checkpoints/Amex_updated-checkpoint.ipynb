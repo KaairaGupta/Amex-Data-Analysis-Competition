{
 "cells": [
  {
   "cell_type": "code",
   "execution_count": 1,
   "metadata": {},
   "outputs": [],
   "source": [
    "import numpy as np\n",
    "import matplotlib.pyplot as plt\n",
    "import pandas as pd\n",
    "from sklearn import svm"
   ]
  },
  {
   "cell_type": "code",
   "execution_count": 28,
   "metadata": {},
   "outputs": [],
   "source": [
    "train_dataset=pd.read_csv('development_dataset.csv')\n",
    "test_dataset=pd.read_csv('leaderboard_dataset.csv')"
   ]
  },
  {
   "cell_type": "code",
   "execution_count": 29,
   "metadata": {},
   "outputs": [
    {
     "name": "stdout",
     "output_type": "stream",
     "text": [
      "(34000, 21)\n",
      "(10000, 20)\n"
     ]
    }
   ],
   "source": [
    "print(train_dataset.shape)\n",
    "print(test_dataset.shape)"
   ]
  },
  {
   "cell_type": "code",
   "execution_count": 2,
   "metadata": {},
   "outputs": [
    {
     "ename": "NameError",
     "evalue": "name 'train_dataset' is not defined",
     "output_type": "error",
     "traceback": [
      "\u001b[0;31m---------------------------------------------------------------------------\u001b[0m",
      "\u001b[0;31mNameError\u001b[0m                                 Traceback (most recent call last)",
      "\u001b[0;32m<ipython-input-2-a325ea520657>\u001b[0m in \u001b[0;36m<module>\u001b[0;34m\u001b[0m\n\u001b[0;32m----> 1\u001b[0;31m \u001b[0mtrain_dataset\u001b[0m\u001b[0;34m.\u001b[0m\u001b[0mhead\u001b[0m\u001b[0;34m(\u001b[0m\u001b[0;34m)\u001b[0m\u001b[0;34m\u001b[0m\u001b[0;34m\u001b[0m\u001b[0m\n\u001b[0m",
      "\u001b[0;31mNameError\u001b[0m: name 'train_dataset' is not defined"
     ]
    }
   ],
   "source": [
    "train_dataset.head()"
   ]
  },
  {
   "cell_type": "code",
   "execution_count": 3,
   "metadata": {},
   "outputs": [
    {
     "ename": "NameError",
     "evalue": "name 'train_dataset' is not defined",
     "output_type": "error",
     "traceback": [
      "\u001b[0;31m---------------------------------------------------------------------------\u001b[0m",
      "\u001b[0;31mNameError\u001b[0m                                 Traceback (most recent call last)",
      "\u001b[0;32m<ipython-input-3-23b5abd41f8c>\u001b[0m in \u001b[0;36m<module>\u001b[0;34m\u001b[0m\n\u001b[0;32m----> 1\u001b[0;31m \u001b[0mdata\u001b[0m\u001b[0;34m=\u001b[0m\u001b[0mpd\u001b[0m\u001b[0;34m.\u001b[0m\u001b[0mconcat\u001b[0m\u001b[0;34m(\u001b[0m\u001b[0;34m[\u001b[0m\u001b[0mtrain_dataset\u001b[0m\u001b[0;34m,\u001b[0m\u001b[0mtest_dataset\u001b[0m\u001b[0;34m]\u001b[0m\u001b[0;34m)\u001b[0m\u001b[0;34m\u001b[0m\u001b[0;34m\u001b[0m\u001b[0m\n\u001b[0m",
      "\u001b[0;31mNameError\u001b[0m: name 'train_dataset' is not defined"
     ]
    }
   ],
   "source": [
    "data=pd.concat([train_dataset,test_dataset])"
   ]
  },
  {
   "cell_type": "code",
   "execution_count": 8,
   "metadata": {},
   "outputs": [
    {
     "name": "stdout",
     "output_type": "stream",
     "text": [
      "(44000, 21)\n"
     ]
    }
   ],
   "source": [
    "print(data.shape)\n"
   ]
  },
  {
   "cell_type": "code",
   "execution_count": 9,
   "metadata": {},
   "outputs": [
    {
     "name": "stdout",
     "output_type": "stream",
     "text": [
      "0          Low\n",
      "1         High\n",
      "2       Medium\n",
      "3          Low\n",
      "4         High\n",
      "5          Low\n",
      "6          Low\n",
      "7       Medium\n",
      "8          Low\n",
      "9       Medium\n",
      "10         Low\n",
      "11         Low\n",
      "12         Low\n",
      "13        High\n",
      "14      Medium\n",
      "15        High\n",
      "16         Low\n",
      "17         Low\n",
      "18         Low\n",
      "19         Low\n",
      "20      Medium\n",
      "21         Low\n",
      "22      Medium\n",
      "23      Medium\n",
      "24      Medium\n",
      "25      Medium\n",
      "26         Low\n",
      "27         Low\n",
      "28         Low\n",
      "29         Low\n",
      "         ...  \n",
      "9970       NaN\n",
      "9971       NaN\n",
      "9972       NaN\n",
      "9973       NaN\n",
      "9974       NaN\n",
      "9975       NaN\n",
      "9976       NaN\n",
      "9977       NaN\n",
      "9978       NaN\n",
      "9979       NaN\n",
      "9980       NaN\n",
      "9981       NaN\n",
      "9982       NaN\n",
      "9983       NaN\n",
      "9984       NaN\n",
      "9985       NaN\n",
      "9986       NaN\n",
      "9987       NaN\n",
      "9988       NaN\n",
      "9989       NaN\n",
      "9990       NaN\n",
      "9991       NaN\n",
      "9992       NaN\n",
      "9993       NaN\n",
      "9994       NaN\n",
      "9995       NaN\n",
      "9996       NaN\n",
      "9997       NaN\n",
      "9998       NaN\n",
      "9999       NaN\n",
      "Name: VAR21, Length: 44000, dtype: object\n"
     ]
    }
   ],
   "source": [
    "print(data['VAR21'])"
   ]
  },
  {
   "cell_type": "code",
   "execution_count": 10,
   "metadata": {},
   "outputs": [
    {
     "data": {
      "image/png": "[encoded data removed]",
      "text/plain": [
       "<Figure size 432x288 with 1 Axes>"
      ]
     },
     "metadata": {
      "needs_background": "light"
     },
     "output_type": "display_data"
    }
   ],
   "source": [
    "plt.scatter(train_dataset['VAR7'],train_dataset['VAR16'])\n",
    "plt.show()"
   ]
  },
  {
   "cell_type": "code",
   "execution_count": 30,
   "metadata": {},
   "outputs": [
    {
     "name": "stderr",
     "output_type": "stream",
     "text": [
      "/home/ishan/anaconda3/lib/python3.7/site-packages/ipykernel_launcher.py:1: SettingWithCopyWarning: \n",
      "A value is trying to be set on a copy of a slice from a DataFrame\n",
      "\n",
      "See the caveats in the documentation: http://pandas.pydata.org/pandas-docs/stable/indexing.html#indexing-view-versus-copy\n",
      "  \"\"\"Entry point for launching an IPython kernel.\n"
     ]
    }
   ],
   "source": [
    "train_dataset.loc[:,'VAR14'][train_dataset.loc[:,'VAR14'].isin(['.'])]=0\n",
    "train_dataset['VAR14']=train_dataset['VAR14'].apply(pd.to_numeric)"
   ]
  },
  {
   "cell_type": "code",
   "execution_count": 52,
   "metadata": {},
   "outputs": [
    {
     "name": "stderr",
     "output_type": "stream",
     "text": [
      "/home/ishan/anaconda3/lib/python3.7/site-packages/ipykernel_launcher.py:1: SettingWithCopyWarning: \n",
      "A value is trying to be set on a copy of a slice from a DataFrame\n",
      "\n",
      "See the caveats in the documentation: http://pandas.pydata.org/pandas-docs/stable/indexing.html#indexing-view-versus-copy\n",
      "  \"\"\"Entry point for launching an IPython kernel.\n"
     ]
    }
   ],
   "source": [
    "test_dataset.loc[:,'VAR14'][test_dataset.loc[:,'VAR14'].isin(['.'])]=0\n",
    "test_dataset['VAR14']=test_dataset['VAR14'].apply(pd.to_numeric)"
   ]
  },
  {
   "cell_type": "code",
   "execution_count": 32,
   "metadata": {},
   "outputs": [],
   "source": [
    "mean_data = {\n",
    "    'VAR10': 56.497319916561565,\n",
    "    'VAR11': 5.4290617632523634,\n",
    "    'VAR12': 117.28366711019322,\n",
    "    'VAR13': 11.67958939730443,\n",
    "    'VAR15': 12.453257109061381,\n",
    "    'VAR16': 2.092006359280712,\n",
    "    'VAR17': 821.281091817721,\n",
    "    'VAR18': 0.40002941176470586,\n",
    "    'VAR19': 0.29805882352941176,\n",
    "    'VAR2': 917.3916031483315,\n",
    "    'VAR20': 161.35594998478794,\n",
    "    'VAR3': 1.1195956999950352,\n",
    "    'VAR4': 248.07620132529897,\n",
    "    'VAR5': 631.5713914682914,\n",
    "    'VAR6': 15.290028445341045,\n",
    "    'VAR7': 2.0552948772701423,\n",
    "    'VAR8': 200.00716889702667,\n",
    "    'VAR9': 53.988554410139486,\n",
    "}"
   ]
  },
  {
   "cell_type": "code",
   "execution_count": 88,
   "metadata": {},
   "outputs": [],
   "source": []
  },
  {
   "cell_type": "code",
   "execution_count": 89,
   "metadata": {
    "scrolled": true
   },
   "outputs": [
    {
     "name": "stdout",
     "output_type": "stream",
     "text": [
      "<class 'pandas.core.frame.DataFrame'>\n",
      "RangeIndex: 34000 entries, 0 to 33999\n",
      "Data columns (total 21 columns):\n",
      "VAR1     34000 non-null int64\n",
      "VAR2     34000 non-null float64\n",
      "VAR3     34000 non-null float64\n",
      "VAR4     34000 non-null float64\n",
      "VAR5     34000 non-null float64\n",
      "VAR6     34000 non-null float64\n",
      "VAR7     34000 non-null float64\n",
      "VAR8     34000 non-null float64\n",
      "VAR9     34000 non-null float64\n",
      "VAR10    34000 non-null float64\n",
      "VAR11    34000 non-null float64\n",
      "VAR12    34000 non-null float64\n",
      "VAR13    34000 non-null float64\n",
      "VAR14    34000 non-null int64\n",
      "VAR15    34000 non-null float64\n",
      "VAR16    34000 non-null float64\n",
      "VAR17    34000 non-null float64\n",
      "VAR18    34000 non-null int64\n",
      "VAR19    34000 non-null int64\n",
      "VAR20    34000 non-null float64\n",
      "VAR21    34000 non-null object\n",
      "dtypes: float64(16), int64(4), object(1)\n",
      "memory usage: 5.4+ MB\n",
      "<class 'pandas.core.frame.DataFrame'>\n",
      "RangeIndex: 10000 entries, 0 to 9999\n",
      "Data columns (total 20 columns):\n",
      "VAR1     10000 non-null int64\n",
      "VAR2     10000 non-null float64\n",
      "VAR3     10000 non-null float64\n",
      "VAR4     10000 non-null float64\n",
      "VAR5     10000 non-null float64\n",
      "VAR6     10000 non-null float64\n",
      "VAR7     10000 non-null float64\n",
      "VAR8     10000 non-null float64\n",
      "VAR9     10000 non-null float64\n",
      "VAR10    10000 non-null float64\n",
      "VAR11    10000 non-null float64\n",
      "VAR12    10000 non-null float64\n",
      "VAR13    10000 non-null float64\n",
      "VAR14    10000 non-null int64\n",
      "VAR15    10000 non-null float64\n",
      "VAR16    10000 non-null float64\n",
      "VAR17    10000 non-null float64\n",
      "VAR18    10000 non-null int64\n",
      "VAR19    10000 non-null int64\n",
      "VAR20    10000 non-null float64\n",
      "dtypes: float64(16), int64(4)\n",
      "memory usage: 1.5 MB\n"
     ]
    },
    {
     "data": {
      "text/plain": [
       "VAR1     34000\n",
       "VAR2     34000\n",
       "VAR3     34000\n",
       "VAR4     34000\n",
       "VAR5     34000\n",
       "VAR6     34000\n",
       "VAR7     34000\n",
       "VAR8     34000\n",
       "VAR9     34000\n",
       "VAR10    34000\n",
       "VAR11    34000\n",
       "VAR12    34000\n",
       "VAR13    34000\n",
       "VAR14    34000\n",
       "VAR15    34000\n",
       "VAR16    34000\n",
       "VAR17    34000\n",
       "VAR18    34000\n",
       "VAR19    34000\n",
       "VAR20    34000\n",
       "VAR21    34000\n",
       "dtype: int64"
      ]
     },
     "execution_count": 89,
     "metadata": {},
     "output_type": "execute_result"
    }
   ],
   "source": [
    "train_dataset.info()\n",
    "test_dataset.info()\n",
    "train_dataset.isnull().count()"
   ]
  },
  {
   "cell_type": "code",
   "execution_count": 90,
   "metadata": {},
   "outputs": [
    {
     "name": "stdout",
     "output_type": "stream",
     "text": [
      "0           Low\n",
      "1          High\n",
      "2        Medium\n",
      "3           Low\n",
      "4          High\n",
      "5           Low\n",
      "6           Low\n",
      "7        Medium\n",
      "8           Low\n",
      "9        Medium\n",
      "10          Low\n",
      "11          Low\n",
      "12          Low\n",
      "13         High\n",
      "14       Medium\n",
      "15         High\n",
      "16          Low\n",
      "17          Low\n",
      "18          Low\n",
      "19          Low\n",
      "20       Medium\n",
      "21          Low\n",
      "22       Medium\n",
      "23       Medium\n",
      "24       Medium\n",
      "25       Medium\n",
      "26          Low\n",
      "27          Low\n",
      "28          Low\n",
      "29          Low\n",
      "          ...  \n",
      "33970       Low\n",
      "33971    Medium\n",
      "33972    Medium\n",
      "33973    Medium\n",
      "33974       Low\n",
      "33975    Medium\n",
      "33976       Low\n",
      "33977       Low\n",
      "33978    Medium\n",
      "33979    Medium\n",
      "33980    Medium\n",
      "33981       Low\n",
      "33982    Medium\n",
      "33983       Low\n",
      "33984      High\n",
      "33985    Medium\n",
      "33986      High\n",
      "33987    Medium\n",
      "33988    Medium\n",
      "33989       Low\n",
      "33990    Medium\n",
      "33991    Medium\n",
      "33992    Medium\n",
      "33993       Low\n",
      "33994    Medium\n",
      "33995       Low\n",
      "33996    Medium\n",
      "33997       Low\n",
      "33998       Low\n",
      "33999      High\n",
      "Name: VAR21, Length: 34000, dtype: object\n"
     ]
    }
   ],
   "source": [
    "y=train_dataset.iloc[:,20]\n",
    "print(y)"
   ]
  },
  {
   "cell_type": "code",
   "execution_count": 91,
   "metadata": {},
   "outputs": [],
   "source": [
    "X=train_dataset.drop(data.columns[0],axis=1)\n",
    "X=train_dataset.drop(['VAR21'],axis=1)\n",
    "y=train_dataset['VAR21']\n",
    "\n",
    "X_leaderboard=test_dataset"
   ]
  },
  {
   "cell_type": "code",
   "execution_count": 92,
   "metadata": {},
   "outputs": [],
   "source": [
    "from sklearn.model_selection import train_test_split\n",
    "X_train,X_test,y_train,y_test=train_test_split(X,y,test_size=0.3,random_state=42)"
   ]
  },
  {
   "cell_type": "code",
   "execution_count": 93,
   "metadata": {
    "scrolled": true
   },
   "outputs": [
    {
     "name": "stdout",
     "output_type": "stream",
     "text": [
      "(23800, 20)\n",
      "(10200, 20)\n",
      "       VAR1   VAR2   VAR3   VAR4   VAR5   VAR6   VAR7   VAR8   VAR9  VAR10  \\\n",
      "0     False  False  False  False  False  False  False  False  False  False   \n",
      "1     False  False  False  False  False  False  False  False  False  False   \n",
      "2     False  False  False  False  False  False  False  False  False  False   \n",
      "3     False  False  False  False  False  False  False  False  False  False   \n",
      "4     False  False  False  False  False  False  False  False  False  False   \n",
      "5     False  False  False  False  False  False  False  False  False  False   \n",
      "6     False  False  False  False  False  False  False  False  False  False   \n",
      "7     False  False  False  False  False  False  False  False  False  False   \n",
      "8     False  False  False  False  False  False  False  False  False  False   \n",
      "9     False  False  False  False  False  False  False  False  False  False   \n",
      "10    False  False  False  False  False  False  False  False  False  False   \n",
      "11    False  False  False  False  False  False  False  False  False  False   \n",
      "12    False  False  False  False  False  False  False  False  False  False   \n",
      "13    False  False  False  False  False  False  False  False  False  False   \n",
      "14    False  False  False  False  False  False  False  False  False  False   \n",
      "15    False  False  False  False  False  False  False  False  False  False   \n",
      "16    False  False  False  False  False  False  False  False  False  False   \n",
      "17    False  False  False  False  False  False  False  False  False  False   \n",
      "18    False  False  False  False  False  False  False  False  False  False   \n",
      "19    False  False  False  False  False  False  False  False  False  False   \n",
      "20    False  False  False  False  False  False  False  False  False  False   \n",
      "21    False  False  False  False  False  False  False  False  False  False   \n",
      "22    False  False  False  False  False  False  False  False  False  False   \n",
      "23    False  False  False  False  False  False  False  False  False  False   \n",
      "24    False  False  False  False  False  False  False  False  False  False   \n",
      "25    False  False  False  False  False  False  False  False  False  False   \n",
      "26    False  False  False  False  False  False  False  False  False  False   \n",
      "27    False  False  False  False  False  False  False  False  False  False   \n",
      "28    False  False  False  False  False  False  False  False  False  False   \n",
      "29    False  False  False  False  False  False  False  False  False  False   \n",
      "...     ...    ...    ...    ...    ...    ...    ...    ...    ...    ...   \n",
      "9970  False  False  False  False  False  False  False  False  False  False   \n",
      "9971  False  False  False  False  False  False  False  False  False  False   \n",
      "9972  False  False  False  False  False  False  False  False  False  False   \n",
      "9973  False  False  False  False  False  False  False  False  False  False   \n",
      "9974  False  False  False  False  False  False  False  False  False  False   \n",
      "9975  False  False  False  False  False  False  False  False  False  False   \n",
      "9976  False  False  False  False  False  False  False  False  False  False   \n",
      "9977  False  False  False  False  False  False  False  False  False  False   \n",
      "9978  False  False  False  False  False  False  False  False  False  False   \n",
      "9979  False  False  False  False  False  False  False  False  False  False   \n",
      "9980  False  False  False  False  False  False  False  False  False  False   \n",
      "9981  False  False  False  False  False  False  False  False  False  False   \n",
      "9982  False  False  False  False  False  False  False  False  False  False   \n",
      "9983  False  False  False  False  False  False  False  False  False  False   \n",
      "9984  False  False  False  False  False  False  False  False  False  False   \n",
      "9985  False  False  False  False  False  False  False  False  False  False   \n",
      "9986  False  False  False  False  False  False  False  False  False  False   \n",
      "9987  False  False  False  False  False  False  False  False  False  False   \n",
      "9988  False  False  False  False  False  False  False  False  False  False   \n",
      "9989  False  False  False  False  False  False  False  False  False  False   \n",
      "9990  False  False  False  False  False  False  False  False  False  False   \n",
      "9991  False  False  False  False  False  False  False  False  False  False   \n",
      "9992  False  False  False  False  False  False  False  False  False  False   \n",
      "9993  False  False  False  False  False  False  False  False  False  False   \n",
      "9994  False  False  False  False  False  False  False  False  False  False   \n",
      "9995  False  False  False  False  False  False  False  False  False  False   \n",
      "9996  False  False  False  False  False  False  False  False  False  False   \n",
      "9997  False  False  False  False  False  False  False  False  False  False   \n",
      "9998  False  False  False  False  False  False  False  False  False  False   \n",
      "9999  False  False  False  False  False  False  False  False  False  False   \n",
      "\n",
      "      VAR11  VAR12  VAR13  VAR14  VAR15  VAR16  VAR17  VAR18  VAR19  VAR20  \n",
      "0     False  False  False  False  False  False  False  False  False  False  \n",
      "1     False  False  False  False  False  False  False  False  False  False  \n",
      "2     False  False  False  False  False  False  False  False  False  False  \n",
      "3     False  False  False  False  False  False  False  False  False  False  \n",
      "4     False  False  False  False  False  False  False  False  False  False  \n",
      "5     False  False  False  False  False  False  False  False  False  False  \n",
      "6     False  False  False  False  False  False  False  False  False  False  \n",
      "7     False  False  False  False  False  False  False  False  False  False  \n",
      "8     False  False  False  False  False  False  False  False  False  False  \n",
      "9     False  False  False  False  False  False  False  False  False  False  \n",
      "10    False  False  False  False  False  False  False  False  False  False  \n",
      "11    False  False  False  False  False  False  False  False  False  False  \n",
      "12    False  False  False  False  False  False  False  False  False  False  \n",
      "13    False  False  False  False  False  False  False  False  False  False  \n",
      "14    False  False  False  False  False  False  False  False  False  False  \n",
      "15    False  False  False  False  False  False  False  False  False  False  \n",
      "16    False  False  False  False  False  False  False  False  False  False  \n",
      "17    False  False  False  False  False  False  False  False  False  False  \n",
      "18    False  False  False  False  False  False  False  False  False  False  \n",
      "19    False  False  False  False  False  False  False  False  False  False  \n",
      "20    False  False  False  False  False  False  False  False  False  False  \n",
      "21    False  False  False  False  False  False  False  False  False  False  \n",
      "22    False  False  False  False  False  False  False  False  False  False  \n",
      "23    False  False  False  False  False  False  False  False  False  False  \n",
      "24    False  False  False  False  False  False  False  False  False  False  \n",
      "25    False  False  False  False  False  False  False  False  False  False  \n",
      "26    False  False  False  False  False  False  False  False  False  False  \n",
      "27    False  False  False  False  False  False  False  False  False  False  \n",
      "28    False  False  False  False  False  False  False  False  False  False  \n",
      "29    False  False  False  False  False  False  False  False  False  False  \n",
      "...     ...    ...    ...    ...    ...    ...    ...    ...    ...    ...  \n",
      "9970  False  False  False  False  False  False  False  False  False  False  \n",
      "9971  False  False  False  False  False  False  False  False  False  False  \n",
      "9972  False  False  False  False  False  False  False  False  False  False  \n",
      "9973  False  False  False  False  False  False  False  False  False  False  \n",
      "9974  False  False  False  False  False  False  False  False  False  False  \n",
      "9975  False  False  False  False  False  False  False  False  False  False  \n",
      "9976  False  False  False  False  False  False  False  False  False  False  \n",
      "9977  False  False  False  False  False  False  False  False  False  False  \n",
      "9978  False  False  False  False  False  False  False  False  False  False  \n",
      "9979  False  False  False  False  False  False  False  False  False  False  \n",
      "9980  False  False  False  False  False  False  False  False  False  False  \n",
      "9981  False  False  False  False  False  False  False  False  False  False  \n",
      "9982  False  False  False  False  False  False  False  False  False  False  \n",
      "9983  False  False  False  False  False  False  False  False  False  False  \n",
      "9984  False  False  False  False  False  False  False  False  False  False  \n",
      "9985  False  False  False  False  False  False  False  False  False  False  \n",
      "9986  False  False  False  False  False  False  False  False  False  False  \n",
      "9987  False  False  False  False  False  False  False  False  False  False  \n",
      "9988  False  False  False  False  False  False  False  False  False  False  \n",
      "9989  False  False  False  False  False  False  False  False  False  False  \n",
      "9990  False  False  False  False  False  False  False  False  False  False  \n",
      "9991  False  False  False  False  False  False  False  False  False  False  \n",
      "9992  False  False  False  False  False  False  False  False  False  False  \n",
      "9993  False  False  False  False  False  False  False  False  False  False  \n",
      "9994  False  False  False  False  False  False  False  False  False  False  \n",
      "9995  False  False  False  False  False  False  False  False  False  False  \n",
      "9996  False  False  False  False  False  False  False  False  False  False  \n",
      "9997  False  False  False  False  False  False  False  False  False  False  \n",
      "9998  False  False  False  False  False  False  False  False  False  False  \n",
      "9999  False  False  False  False  False  False  False  False  False  False  \n",
      "\n",
      "[10000 rows x 20 columns]\n"
     ]
    }
   ],
   "source": [
    "print(X_train.shape)\n",
    "print(X_test.shape)\n",
    "print(X_leaderboard.isnull())"
   ]
  },
  {
   "cell_type": "code",
   "execution_count": 94,
   "metadata": {},
   "outputs": [
    {
     "data": {
      "text/plain": [
       "array([0, 1, 0], dtype=uint8)"
      ]
     },
     "execution_count": 94,
     "metadata": {},
     "output_type": "execute_result"
    }
   ],
   "source": [
    "y_hot=pd.get_dummies(y)\n",
    "y_hot\n",
    "y_train_hot=np.asarray(pd.get_dummies(y_train))\n",
    "y_test_hot=np.asarray(pd.get_dummies(y_test))\n",
    "y_train_hot[0]"
   ]
  },
  {
   "cell_type": "code",
   "execution_count": 87,
   "metadata": {},
   "outputs": [
    {
     "ename": "ValueError",
     "evalue": "operands could not be broadcast together with shapes (10000,20) (2,) ",
     "output_type": "error",
     "traceback": [
      "\u001b[0;31m---------------------------------------------------------------------------\u001b[0m",
      "\u001b[0;31mValueError\u001b[0m                                Traceback (most recent call last)",
      "\u001b[0;32m<ipython-input-87-3b259b84d6fd>\u001b[0m in \u001b[0;36m<module>\u001b[0;34m\u001b[0m\n\u001b[1;32m      3\u001b[0m \u001b[0mX_train\u001b[0m\u001b[0;34m=\u001b[0m\u001b[0mlda\u001b[0m\u001b[0;34m.\u001b[0m\u001b[0mfit_transform\u001b[0m\u001b[0;34m(\u001b[0m\u001b[0mX_train\u001b[0m\u001b[0;34m,\u001b[0m\u001b[0my_train\u001b[0m\u001b[0;34m)\u001b[0m\u001b[0;34m\u001b[0m\u001b[0;34m\u001b[0m\u001b[0m\n\u001b[1;32m      4\u001b[0m \u001b[0;31m#X_test=lda.transform(X_test)\u001b[0m\u001b[0;34m\u001b[0m\u001b[0;34m\u001b[0m\u001b[0;34m\u001b[0m\u001b[0m\n\u001b[0;32m----> 5\u001b[0;31m \u001b[0mX_leaderboard_lda\u001b[0m\u001b[0;34m=\u001b[0m\u001b[0mlda\u001b[0m\u001b[0;34m.\u001b[0m\u001b[0mtransform\u001b[0m\u001b[0;34m(\u001b[0m\u001b[0mX_leaderboard\u001b[0m\u001b[0;34m)\u001b[0m\u001b[0;34m\u001b[0m\u001b[0;34m\u001b[0m\u001b[0m\n\u001b[0m\u001b[1;32m      6\u001b[0m \u001b[0;34m\u001b[0m\u001b[0m\n\u001b[1;32m      7\u001b[0m \u001b[0mprint\u001b[0m\u001b[0;34m(\u001b[0m\u001b[0mX_train\u001b[0m\u001b[0;34m.\u001b[0m\u001b[0mshape\u001b[0m\u001b[0;34m)\u001b[0m\u001b[0;34m\u001b[0m\u001b[0;34m\u001b[0m\u001b[0m\n",
      "\u001b[0;32m~/anaconda3/lib/python3.7/site-packages/sklearn/discriminant_analysis.py\u001b[0m in \u001b[0;36mtransform\u001b[0;34m(self, X)\u001b[0m\n\u001b[1;32m    493\u001b[0m         \u001b[0mX\u001b[0m \u001b[0;34m=\u001b[0m \u001b[0mcheck_array\u001b[0m\u001b[0;34m(\u001b[0m\u001b[0mX\u001b[0m\u001b[0;34m)\u001b[0m\u001b[0;34m\u001b[0m\u001b[0;34m\u001b[0m\u001b[0m\n\u001b[1;32m    494\u001b[0m         \u001b[0;32mif\u001b[0m \u001b[0mself\u001b[0m\u001b[0;34m.\u001b[0m\u001b[0msolver\u001b[0m \u001b[0;34m==\u001b[0m \u001b[0;34m'svd'\u001b[0m\u001b[0;34m:\u001b[0m\u001b[0;34m\u001b[0m\u001b[0;34m\u001b[0m\u001b[0m\n\u001b[0;32m--> 495\u001b[0;31m             \u001b[0mX_new\u001b[0m \u001b[0;34m=\u001b[0m \u001b[0mnp\u001b[0m\u001b[0;34m.\u001b[0m\u001b[0mdot\u001b[0m\u001b[0;34m(\u001b[0m\u001b[0mX\u001b[0m \u001b[0;34m-\u001b[0m \u001b[0mself\u001b[0m\u001b[0;34m.\u001b[0m\u001b[0mxbar_\u001b[0m\u001b[0;34m,\u001b[0m \u001b[0mself\u001b[0m\u001b[0;34m.\u001b[0m\u001b[0mscalings_\u001b[0m\u001b[0;34m)\u001b[0m\u001b[0;34m\u001b[0m\u001b[0;34m\u001b[0m\u001b[0m\n\u001b[0m\u001b[1;32m    496\u001b[0m         \u001b[0;32melif\u001b[0m \u001b[0mself\u001b[0m\u001b[0;34m.\u001b[0m\u001b[0msolver\u001b[0m \u001b[0;34m==\u001b[0m \u001b[0;34m'eigen'\u001b[0m\u001b[0;34m:\u001b[0m\u001b[0;34m\u001b[0m\u001b[0;34m\u001b[0m\u001b[0m\n\u001b[1;32m    497\u001b[0m             \u001b[0mX_new\u001b[0m \u001b[0;34m=\u001b[0m \u001b[0mnp\u001b[0m\u001b[0;34m.\u001b[0m\u001b[0mdot\u001b[0m\u001b[0;34m(\u001b[0m\u001b[0mX\u001b[0m\u001b[0;34m,\u001b[0m \u001b[0mself\u001b[0m\u001b[0;34m.\u001b[0m\u001b[0mscalings_\u001b[0m\u001b[0;34m)\u001b[0m\u001b[0;34m\u001b[0m\u001b[0;34m\u001b[0m\u001b[0m\n",
      "\u001b[0;31mValueError\u001b[0m: operands could not be broadcast together with shapes (10000,20) (2,) "
     ]
    }
   ],
   "source": [
    "from sklearn.discriminant_analysis import LinearDiscriminantAnalysis\n",
    "lda=LinearDiscriminantAnalysis()\n",
    "X_train=lda.fit_transform(X_train,y_train)\n",
    "#X_test=lda.transform(X_test)\n",
    "X_leaderboard_lda=lda.transform(X_leaderboard)"
   ]
  },
  {
   "cell_type": "code",
   "execution_count": 86,
   "metadata": {},
   "outputs": [
    {
     "ename": "ValueError",
     "evalue": "X.shape[1] = 20 should be equal to 2, the number of features at training time",
     "output_type": "error",
     "traceback": [
      "\u001b[0;31m---------------------------------------------------------------------------\u001b[0m",
      "\u001b[0;31mValueError\u001b[0m                                Traceback (most recent call last)",
      "\u001b[0;32m<ipython-input-86-064f2f2b6990>\u001b[0m in \u001b[0;36m<module>\u001b[0;34m\u001b[0m\n\u001b[1;32m      3\u001b[0m \u001b[0mclf\u001b[0m\u001b[0;34m.\u001b[0m\u001b[0mfit\u001b[0m\u001b[0;34m(\u001b[0m\u001b[0mX_train\u001b[0m\u001b[0;34m,\u001b[0m\u001b[0my_train\u001b[0m\u001b[0;34m)\u001b[0m\u001b[0;34m\u001b[0m\u001b[0;34m\u001b[0m\u001b[0m\n\u001b[1;32m      4\u001b[0m \u001b[0;34m\u001b[0m\u001b[0m\n\u001b[0;32m----> 5\u001b[0;31m \u001b[0my_pred_svm\u001b[0m\u001b[0;34m=\u001b[0m\u001b[0mclf\u001b[0m\u001b[0;34m.\u001b[0m\u001b[0mpredict\u001b[0m\u001b[0;34m(\u001b[0m\u001b[0mX_leaderboard\u001b[0m\u001b[0;34m)\u001b[0m\u001b[0;34m\u001b[0m\u001b[0;34m\u001b[0m\u001b[0m\n\u001b[0m\u001b[1;32m      6\u001b[0m \u001b[0mprint\u001b[0m\u001b[0;34m(\u001b[0m\u001b[0my_pred_svm\u001b[0m\u001b[0;34m)\u001b[0m\u001b[0;34m\u001b[0m\u001b[0;34m\u001b[0m\u001b[0m\n\u001b[1;32m      7\u001b[0m \u001b[0;31m#print(\"ACCURACY: \",accuracy_score(y_test,y_pred_svm))\u001b[0m\u001b[0;34m\u001b[0m\u001b[0;34m\u001b[0m\u001b[0;34m\u001b[0m\u001b[0m\n",
      "\u001b[0;32m~/anaconda3/lib/python3.7/site-packages/sklearn/svm/base.py\u001b[0m in \u001b[0;36mpredict\u001b[0;34m(self, X)\u001b[0m\n\u001b[1;32m    574\u001b[0m             \u001b[0mClass\u001b[0m \u001b[0mlabels\u001b[0m \u001b[0;32mfor\u001b[0m \u001b[0msamples\u001b[0m \u001b[0;32min\u001b[0m \u001b[0mX\u001b[0m\u001b[0;34m.\u001b[0m\u001b[0;34m\u001b[0m\u001b[0;34m\u001b[0m\u001b[0m\n\u001b[1;32m    575\u001b[0m         \"\"\"\n\u001b[0;32m--> 576\u001b[0;31m         \u001b[0my\u001b[0m \u001b[0;34m=\u001b[0m \u001b[0msuper\u001b[0m\u001b[0;34m(\u001b[0m\u001b[0mBaseSVC\u001b[0m\u001b[0;34m,\u001b[0m \u001b[0mself\u001b[0m\u001b[0;34m)\u001b[0m\u001b[0;34m.\u001b[0m\u001b[0mpredict\u001b[0m\u001b[0;34m(\u001b[0m\u001b[0mX\u001b[0m\u001b[0;34m)\u001b[0m\u001b[0;34m\u001b[0m\u001b[0;34m\u001b[0m\u001b[0m\n\u001b[0m\u001b[1;32m    577\u001b[0m         \u001b[0;32mreturn\u001b[0m \u001b[0mself\u001b[0m\u001b[0;34m.\u001b[0m\u001b[0mclasses_\u001b[0m\u001b[0;34m.\u001b[0m\u001b[0mtake\u001b[0m\u001b[0;34m(\u001b[0m\u001b[0mnp\u001b[0m\u001b[0;34m.\u001b[0m\u001b[0masarray\u001b[0m\u001b[0;34m(\u001b[0m\u001b[0my\u001b[0m\u001b[0;34m,\u001b[0m \u001b[0mdtype\u001b[0m\u001b[0;34m=\u001b[0m\u001b[0mnp\u001b[0m\u001b[0;34m.\u001b[0m\u001b[0mintp\u001b[0m\u001b[0;34m)\u001b[0m\u001b[0;34m)\u001b[0m\u001b[0;34m\u001b[0m\u001b[0;34m\u001b[0m\u001b[0m\n\u001b[1;32m    578\u001b[0m \u001b[0;34m\u001b[0m\u001b[0m\n",
      "\u001b[0;32m~/anaconda3/lib/python3.7/site-packages/sklearn/svm/base.py\u001b[0m in \u001b[0;36mpredict\u001b[0;34m(self, X)\u001b[0m\n\u001b[1;32m    323\u001b[0m         \u001b[0my_pred\u001b[0m \u001b[0;34m:\u001b[0m \u001b[0marray\u001b[0m\u001b[0;34m,\u001b[0m \u001b[0mshape\u001b[0m \u001b[0;34m(\u001b[0m\u001b[0mn_samples\u001b[0m\u001b[0;34m,\u001b[0m\u001b[0;34m)\u001b[0m\u001b[0;34m\u001b[0m\u001b[0;34m\u001b[0m\u001b[0m\n\u001b[1;32m    324\u001b[0m         \"\"\"\n\u001b[0;32m--> 325\u001b[0;31m         \u001b[0mX\u001b[0m \u001b[0;34m=\u001b[0m \u001b[0mself\u001b[0m\u001b[0;34m.\u001b[0m\u001b[0m_validate_for_predict\u001b[0m\u001b[0;34m(\u001b[0m\u001b[0mX\u001b[0m\u001b[0;34m)\u001b[0m\u001b[0;34m\u001b[0m\u001b[0;34m\u001b[0m\u001b[0m\n\u001b[0m\u001b[1;32m    326\u001b[0m         \u001b[0mpredict\u001b[0m \u001b[0;34m=\u001b[0m \u001b[0mself\u001b[0m\u001b[0;34m.\u001b[0m\u001b[0m_sparse_predict\u001b[0m \u001b[0;32mif\u001b[0m \u001b[0mself\u001b[0m\u001b[0;34m.\u001b[0m\u001b[0m_sparse\u001b[0m \u001b[0;32melse\u001b[0m \u001b[0mself\u001b[0m\u001b[0;34m.\u001b[0m\u001b[0m_dense_predict\u001b[0m\u001b[0;34m\u001b[0m\u001b[0;34m\u001b[0m\u001b[0m\n\u001b[1;32m    327\u001b[0m         \u001b[0;32mreturn\u001b[0m \u001b[0mpredict\u001b[0m\u001b[0;34m(\u001b[0m\u001b[0mX\u001b[0m\u001b[0;34m)\u001b[0m\u001b[0;34m\u001b[0m\u001b[0;34m\u001b[0m\u001b[0m\n",
      "\u001b[0;32m~/anaconda3/lib/python3.7/site-packages/sklearn/svm/base.py\u001b[0m in \u001b[0;36m_validate_for_predict\u001b[0;34m(self, X)\u001b[0m\n\u001b[1;32m    476\u001b[0m             raise ValueError(\"X.shape[1] = %d should be equal to %d, \"\n\u001b[1;32m    477\u001b[0m                              \u001b[0;34m\"the number of features at training time\"\u001b[0m \u001b[0;34m%\u001b[0m\u001b[0;34m\u001b[0m\u001b[0;34m\u001b[0m\u001b[0m\n\u001b[0;32m--> 478\u001b[0;31m                              (n_features, self.shape_fit_[1]))\n\u001b[0m\u001b[1;32m    479\u001b[0m         \u001b[0;32mreturn\u001b[0m \u001b[0mX\u001b[0m\u001b[0;34m\u001b[0m\u001b[0;34m\u001b[0m\u001b[0m\n\u001b[1;32m    480\u001b[0m \u001b[0;34m\u001b[0m\u001b[0m\n",
      "\u001b[0;31mValueError\u001b[0m: X.shape[1] = 20 should be equal to 2, the number of features at training time"
     ]
    }
   ],
   "source": [
    "from sklearn.metrics import accuracy_score, precision_score, recall_score\n",
    "clf=svm.SVC(kernel='linear')\n",
    "clf.fit(X_train,y_train)\n",
    "\n",
    "y_pred_svm=clf.predict(X_leaderboard)\n",
    "print(y_pred_svm)\n",
    "#print(\"ACCURACY: \",accuracy_score(y_test,y_pred_svm))\n",
    "#print(\"PRECISION: \",precision_score(y_test,y_pred_svm,average='micro'))\n",
    "#print(\"Recall:\",recall_score(y_test,y_pred_svm,average='micro'))\n"
   ]
  },
  {
   "cell_type": "code",
   "execution_count": 68,
   "metadata": {},
   "outputs": [],
   "source": [
    "import pandas as pd \n",
    "pd.DataFrame(y_pred_svm).to_csv(\"sub_svm11.csv\")"
   ]
  },
  {
   "cell_type": "code",
   "execution_count": 70,
   "metadata": {},
   "outputs": [
    {
     "name": "stdout",
     "output_type": "stream",
     "text": [
      "Collecting xgboost\n",
      "\u001b[?25l  Downloading https://files.pythonhosted.org/packages/c1/24/5fe7237b2eca13ee0cfb100bec8c23f4e69ce9df852a64b0493d49dae4e0/xgboost-0.90-py2.py3-none-manylinux1_x86_64.whl (142.8MB)\n",
      "\u001b[K    100% |████████████████████████████████| 142.8MB 208kB/s ta 0:00:011   54% |█████████████████▋              | 78.5MB 422kB/s eta 0:02:33    70% |██████████████████████▌         | 100.6MB 208kB/s eta 0:03:23\n",
      "\u001b[?25hRequirement already satisfied: scipy in /home/ishan/anaconda3/lib/python3.7/site-packages (from xgboost) (1.2.1)\n",
      "Requirement already satisfied: numpy in /home/ishan/anaconda3/lib/python3.7/site-packages (from xgboost) (1.16.2)\n",
      "Installing collected packages: xgboost\n",
      "Successfully installed xgboost-0.90\n"
     ]
    }
   ],
   "source": [
    "!pip install xgboost\n",
    "\n"
   ]
  },
  {
   "cell_type": "code",
   "execution_count": 96,
   "metadata": {},
   "outputs": [
    {
     "name": "stdout",
     "output_type": "stream",
     "text": [
      "(34000, 20)\n",
      "(10000, 20)\n"
     ]
    }
   ],
   "source": [
    "import xgboost\n",
    "from xgboost import XGBClassifier\n",
    "print(X.shape)\n",
    "print(X_leaderboard.shape)"
   ]
  },
  {
   "cell_type": "code",
   "execution_count": 73,
   "metadata": {},
   "outputs": [],
   "source": [
    "from sklearn.discriminant_analysis import LinearDiscriminantAnalysis\n",
    "lda=LinearDiscriminantAnalysis()\n",
    "X_train_full=lda.fit_transform(X,y)\n",
    "#X_test=lda.transform(X_test)\n"
   ]
  },
  {
   "cell_type": "code",
   "execution_count": 97,
   "metadata": {},
   "outputs": [],
   "source": [
    "xgb=XGBClassifier(n_estimators=1000,seed=100)\n",
    "xgb.fit(X,y)\n",
    "y_xgb=xgb.predict(X_leaderboard)"
   ]
  },
  {
   "cell_type": "code",
   "execution_count": 98,
   "metadata": {},
   "outputs": [],
   "source": [
    "pd.DataFrame(y_xgb).to_csv(\"Submission_XGB2.csv\")"
   ]
  },
  {
   "cell_type": "code",
   "execution_count": 99,
   "metadata": {
    "scrolled": false
   },
   "outputs": [
    {
     "data": {
      "image/png": "[encoded data removed]",
      "text/plain": [
       "<Figure size 1080x1080 with 1 Axes>"
      ]
     },
     "metadata": {
      "needs_background": "light"
     },
     "output_type": "display_data"
    }
   ],
   "source": [
    "ax=xgboost.plot_importance(xgb)\n",
    "fig=ax.figure\n",
    "fig.set_size_inches(15,15)"
   ]
  },
  {
   "cell_type": "code",
   "execution_count": 102,
   "metadata": {},
   "outputs": [
    {
     "name": "stdout",
     "output_type": "stream",
     "text": [
      "   VAR1        VAR2      VAR3        VAR4        VAR5      VAR6      VAR7  \\\n",
      "0     1  828.235294  0.138889  321.428571  625.911006  1.818182  1.081550   \n",
      "1     2  911.764706  0.027778  248.076201  611.574748  8.181818  1.344479   \n",
      "2     3  962.352941  0.833333   35.714286  615.825381  8.181818  0.720796   \n",
      "3     4  892.941177  1.119596  248.076201  638.076431  9.090909  0.820218   \n",
      "4     5  914.117647  0.083333  248.076201  626.514988  5.181818  1.372928   \n",
      "\n",
      "         VAR8       VAR9      VAR10     VAR11       VAR12      VAR13  VAR14  \\\n",
      "0  198.113469  53.988554  58.632548  0.279273  100.083403   1.000000      1   \n",
      "1  198.600020  22.086661  56.497320  5.429062   15.012510  11.679589      1   \n",
      "2  197.267767  53.988554  58.632548  0.453212  210.175146  10.000000      1   \n",
      "3  197.355744   4.363431  58.632548  5.429062  117.283667  11.679589      1   \n",
      "4  198.790477  85.938202  58.632548  5.429062  210.175146  11.679589      0   \n",
      "\n",
      "       VAR15     VAR16       VAR17  VAR18  VAR19       VAR20  \n",
      "0   1.000000  1.540594  821.281092      1      0  100.104991  \n",
      "1  12.453257  1.614613  821.281092      0      1  146.654045  \n",
      "2  10.000000  1.044599  821.281092      0      0   98.249570  \n",
      "3  12.453257  1.145729  821.281092      1      0  140.862306  \n",
      "4  12.453257  1.558341  821.281092      1      0  101.268503  \n"
     ]
    }
   ],
   "source": [
    "print(X.head())"
   ]
  }
 ],
 "metadata": {
  "kernelspec": {
   "display_name": "Python 3",
   "language": "python",
   "name": "python3"
  },
  "language_info": {
   "codemirror_mode": {
    "name": "ipython",
    "version": 3
   },
   "file_extension": ".py",
   "mimetype": "text/x-python",
   "name": "python",
   "nbconvert_exporter": "python",
   "pygments_lexer": "ipython3",
   "version": "3.7.3"
  }
 },
 "nbformat": 4,
 "nbformat_minor": 2
}
